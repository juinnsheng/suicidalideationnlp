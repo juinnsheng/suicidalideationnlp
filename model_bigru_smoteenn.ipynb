{
 "cells": [
  {
   "cell_type": "code",
   "execution_count": 1,
   "metadata": {},
   "outputs": [],
   "source": [
    "import pandas as pd\n",
    "\n",
    "twitter = pd.read_csv('twitter_cleaned_stemmed-2.csv', index_col=False)\n",
    "reddit = pd.read_csv('reddit_cleaned_stemmed.csv', index_col=False)"
   ]
  },
  {
   "cell_type": "code",
   "execution_count": 2,
   "metadata": {},
   "outputs": [],
   "source": [
    "reddit.drop({'Unnamed: 0.1', 'Unnamed: 0'}, axis=1, inplace=True)"
   ]
  },
  {
   "cell_type": "code",
   "execution_count": 3,
   "metadata": {},
   "outputs": [],
   "source": [
    "twitter.drop({'Unnamed: 0'}, axis=1, inplace=True)"
   ]
  },
  {
   "cell_type": "code",
   "execution_count": 4,
   "metadata": {},
   "outputs": [],
   "source": [
    "twitter.rename(columns={'Tweet': 'text', 'Suicide': 'class'}, inplace=True)"
   ]
  },
  {
   "cell_type": "code",
   "execution_count": 5,
   "metadata": {},
   "outputs": [],
   "source": [
    "reddit.dropna(how='any', inplace=True)\n",
    "twitter.dropna(how='any', inplace=True)"
   ]
  },
  {
   "cell_type": "code",
   "execution_count": 6,
   "metadata": {},
   "outputs": [],
   "source": [
    "from sklearn.preprocessing import LabelEncoder\n",
    "le = LabelEncoder()\n",
    "reddit['class'] = le.fit_transform(reddit['class'])"
   ]
  },
  {
   "cell_type": "code",
   "execution_count": 7,
   "metadata": {},
   "outputs": [],
   "source": [
    "X_twitter = twitter['text']\n",
    "y_twitter = twitter['class']\n",
    "\n",
    "X_reddit = reddit['text']\n",
    "y_reddit = reddit['class']"
   ]
  },
  {
   "cell_type": "code",
   "execution_count": 8,
   "metadata": {},
   "outputs": [],
   "source": [
    "from tensorflow.keras.preprocessing.text import Tokenizer\n",
    "from tensorflow.keras.preprocessing import sequence\n",
    "tokenizer = Tokenizer(num_words=10000)\n",
    "tokenizer.fit_on_texts(X_twitter)\n",
    "tokenizer.fit_on_texts(X_reddit)\n",
    "X_twitter = tokenizer.texts_to_sequences(X_twitter)\n",
    "X_reddit = tokenizer.texts_to_sequences(X_reddit)\n",
    "X_twitter = sequence.pad_sequences(X_twitter, padding='post', maxlen=300)\n",
    "X_reddit = sequence.pad_sequences(X_reddit, padding='post', maxlen=300)"
   ]
  },
  {
   "cell_type": "code",
   "execution_count": 9,
   "metadata": {},
   "outputs": [],
   "source": [
    "from sklearn.model_selection import train_test_split\n",
    "X_trainreddit, X_testreddit, y_trainreddit, y_testreddit80 = train_test_split(X_reddit, y_reddit, test_size=0.2, random_state=42)\n",
    "X_traintwitter, X_testtwitter, y_traintwitter, y_testtwitter = train_test_split(X_twitter, y_twitter, test_size=0.2, random_state=42)"
   ]
  },
  {
   "cell_type": "code",
   "execution_count": 10,
   "metadata": {},
   "outputs": [
    {
     "name": "stderr",
     "output_type": "stream",
     "text": [
      "/Users/juinnshengna/Desktop/wqd7005 assignment/.venv/lib/python3.10/site-packages/imblearn/over_sampling/_smote/base.py:363: FutureWarning: The parameter `n_jobs` has been deprecated in 0.10 and will be removed in 0.12. You can pass an nearest neighbors estimator where `n_jobs` is already set instead.\n",
      "  warnings.warn(\n"
     ]
    }
   ],
   "source": [
    "from imblearn.combine import SMOTEENN\n",
    "sampler = SMOTEENN(sampling_strategy = 'all',random_state = 123, n_jobs = -1)\n",
    "X_traintwitter, y_traintwitter = sampler.fit_resample(X_traintwitter, y_traintwitter)"
   ]
  },
  {
   "cell_type": "code",
   "execution_count": 15,
   "metadata": {},
   "outputs": [
    {
     "name": "stderr",
     "output_type": "stream",
     "text": [
      "/Users/juinnshengna/Desktop/wqd7005 assignment/.venv/lib/python3.10/site-packages/keras/src/layers/core/embedding.py:86: UserWarning: Argument `input_length` is deprecated. Just remove it.\n",
      "  warnings.warn(\n"
     ]
    },
    {
     "data": {
      "text/html": [
       "<pre style=\"white-space:pre;overflow-x:auto;line-height:normal;font-family:Menlo,'DejaVu Sans Mono',consolas,'Courier New',monospace\"><span style=\"font-weight: bold\">Model: \"sequential_3\"</span>\n",
       "</pre>\n"
      ],
      "text/plain": [
       "\u001b[1mModel: \"sequential_3\"\u001b[0m\n"
      ]
     },
     "metadata": {},
     "output_type": "display_data"
    },
    {
     "data": {
      "text/html": [
       "<pre style=\"white-space:pre;overflow-x:auto;line-height:normal;font-family:Menlo,'DejaVu Sans Mono',consolas,'Courier New',monospace\">┏━━━━━━━━━━━━━━━━━━━━━━━━━━━━━━━━━┳━━━━━━━━━━━━━━━━━━━━━━━━┳━━━━━━━━━━━━━━━┓\n",
       "┃<span style=\"font-weight: bold\"> Layer (type)                    </span>┃<span style=\"font-weight: bold\"> Output Shape           </span>┃<span style=\"font-weight: bold\">       Param # </span>┃\n",
       "┡━━━━━━━━━━━━━━━━━━━━━━━━━━━━━━━━━╇━━━━━━━━━━━━━━━━━━━━━━━━╇━━━━━━━━━━━━━━━┩\n",
       "│ embedding_1 (<span style=\"color: #0087ff; text-decoration-color: #0087ff\">Embedding</span>)         │ ?                      │   <span style=\"color: #00af00; text-decoration-color: #00af00\">0</span> (unbuilt) │\n",
       "├─────────────────────────────────┼────────────────────────┼───────────────┤\n",
       "│ bidirectional_4 (<span style=\"color: #0087ff; text-decoration-color: #0087ff\">Bidirectional</span>) │ ?                      │   <span style=\"color: #00af00; text-decoration-color: #00af00\">0</span> (unbuilt) │\n",
       "├─────────────────────────────────┼────────────────────────┼───────────────┤\n",
       "│ bidirectional_5 (<span style=\"color: #0087ff; text-decoration-color: #0087ff\">Bidirectional</span>) │ ?                      │   <span style=\"color: #00af00; text-decoration-color: #00af00\">0</span> (unbuilt) │\n",
       "├─────────────────────────────────┼────────────────────────┼───────────────┤\n",
       "│ bidirectional_6 (<span style=\"color: #0087ff; text-decoration-color: #0087ff\">Bidirectional</span>) │ ?                      │   <span style=\"color: #00af00; text-decoration-color: #00af00\">0</span> (unbuilt) │\n",
       "├─────────────────────────────────┼────────────────────────┼───────────────┤\n",
       "│ bidirectional_7 (<span style=\"color: #0087ff; text-decoration-color: #0087ff\">Bidirectional</span>) │ ?                      │   <span style=\"color: #00af00; text-decoration-color: #00af00\">0</span> (unbuilt) │\n",
       "├─────────────────────────────────┼────────────────────────┼───────────────┤\n",
       "│ dropout (<span style=\"color: #0087ff; text-decoration-color: #0087ff\">Dropout</span>)               │ ?                      │             <span style=\"color: #00af00; text-decoration-color: #00af00\">0</span> │\n",
       "├─────────────────────────────────┼────────────────────────┼───────────────┤\n",
       "│ dense (<span style=\"color: #0087ff; text-decoration-color: #0087ff\">Dense</span>)                   │ ?                      │   <span style=\"color: #00af00; text-decoration-color: #00af00\">0</span> (unbuilt) │\n",
       "└─────────────────────────────────┴────────────────────────┴───────────────┘\n",
       "</pre>\n"
      ],
      "text/plain": [
       "┏━━━━━━━━━━━━━━━━━━━━━━━━━━━━━━━━━┳━━━━━━━━━━━━━━━━━━━━━━━━┳━━━━━━━━━━━━━━━┓\n",
       "┃\u001b[1m \u001b[0m\u001b[1mLayer (type)                   \u001b[0m\u001b[1m \u001b[0m┃\u001b[1m \u001b[0m\u001b[1mOutput Shape          \u001b[0m\u001b[1m \u001b[0m┃\u001b[1m \u001b[0m\u001b[1m      Param #\u001b[0m\u001b[1m \u001b[0m┃\n",
       "┡━━━━━━━━━━━━━━━━━━━━━━━━━━━━━━━━━╇━━━━━━━━━━━━━━━━━━━━━━━━╇━━━━━━━━━━━━━━━┩\n",
       "│ embedding_1 (\u001b[38;5;33mEmbedding\u001b[0m)         │ ?                      │   \u001b[38;5;34m0\u001b[0m (unbuilt) │\n",
       "├─────────────────────────────────┼────────────────────────┼───────────────┤\n",
       "│ bidirectional_4 (\u001b[38;5;33mBidirectional\u001b[0m) │ ?                      │   \u001b[38;5;34m0\u001b[0m (unbuilt) │\n",
       "├─────────────────────────────────┼────────────────────────┼───────────────┤\n",
       "│ bidirectional_5 (\u001b[38;5;33mBidirectional\u001b[0m) │ ?                      │   \u001b[38;5;34m0\u001b[0m (unbuilt) │\n",
       "├─────────────────────────────────┼────────────────────────┼───────────────┤\n",
       "│ bidirectional_6 (\u001b[38;5;33mBidirectional\u001b[0m) │ ?                      │   \u001b[38;5;34m0\u001b[0m (unbuilt) │\n",
       "├─────────────────────────────────┼────────────────────────┼───────────────┤\n",
       "│ bidirectional_7 (\u001b[38;5;33mBidirectional\u001b[0m) │ ?                      │   \u001b[38;5;34m0\u001b[0m (unbuilt) │\n",
       "├─────────────────────────────────┼────────────────────────┼───────────────┤\n",
       "│ dropout (\u001b[38;5;33mDropout\u001b[0m)               │ ?                      │             \u001b[38;5;34m0\u001b[0m │\n",
       "├─────────────────────────────────┼────────────────────────┼───────────────┤\n",
       "│ dense (\u001b[38;5;33mDense\u001b[0m)                   │ ?                      │   \u001b[38;5;34m0\u001b[0m (unbuilt) │\n",
       "└─────────────────────────────────┴────────────────────────┴───────────────┘\n"
      ]
     },
     "metadata": {},
     "output_type": "display_data"
    },
    {
     "data": {
      "text/html": [
       "<pre style=\"white-space:pre;overflow-x:auto;line-height:normal;font-family:Menlo,'DejaVu Sans Mono',consolas,'Courier New',monospace\"><span style=\"font-weight: bold\"> Total params: </span><span style=\"color: #00af00; text-decoration-color: #00af00\">0</span> (0.00 B)\n",
       "</pre>\n"
      ],
      "text/plain": [
       "\u001b[1m Total params: \u001b[0m\u001b[38;5;34m0\u001b[0m (0.00 B)\n"
      ]
     },
     "metadata": {},
     "output_type": "display_data"
    },
    {
     "data": {
      "text/html": [
       "<pre style=\"white-space:pre;overflow-x:auto;line-height:normal;font-family:Menlo,'DejaVu Sans Mono',consolas,'Courier New',monospace\"><span style=\"font-weight: bold\"> Trainable params: </span><span style=\"color: #00af00; text-decoration-color: #00af00\">0</span> (0.00 B)\n",
       "</pre>\n"
      ],
      "text/plain": [
       "\u001b[1m Trainable params: \u001b[0m\u001b[38;5;34m0\u001b[0m (0.00 B)\n"
      ]
     },
     "metadata": {},
     "output_type": "display_data"
    },
    {
     "data": {
      "text/html": [
       "<pre style=\"white-space:pre;overflow-x:auto;line-height:normal;font-family:Menlo,'DejaVu Sans Mono',consolas,'Courier New',monospace\"><span style=\"font-weight: bold\"> Non-trainable params: </span><span style=\"color: #00af00; text-decoration-color: #00af00\">0</span> (0.00 B)\n",
       "</pre>\n"
      ],
      "text/plain": [
       "\u001b[1m Non-trainable params: \u001b[0m\u001b[38;5;34m0\u001b[0m (0.00 B)\n"
      ]
     },
     "metadata": {},
     "output_type": "display_data"
    }
   ],
   "source": [
    "from keras.layers import Embedding, Bidirectional, GRU, LSTM, Dropout, Dense\n",
    "from tensorflow.keras.models import Sequential\n",
    "max_words = 10000\n",
    "max_len = 300\n",
    "model_biGRU = Sequential()\n",
    "model_biGRU.add(Embedding(input_dim=max_words, output_dim=100, input_length=max_len))\n",
    "model_biGRU.add(Bidirectional(GRU(16, return_sequences=True)))\n",
    "model_biGRU.add(Bidirectional(LSTM(8, return_sequences=True)))\n",
    "model_biGRU.add(Bidirectional(GRU(4, return_sequences=True)))\n",
    "model_biGRU.add(Bidirectional(GRU(2)))\n",
    "model_biGRU.add(Dropout(0.2))\n",
    "model_biGRU.add(Dense(1, activation='sigmoid'))\n",
    "\n",
    "model_biGRU.compile(optimizer='adam', loss='binary_crossentropy', metrics=['accuracy'])\n",
    "\n",
    "model_biGRU.summary()"
   ]
  },
  {
   "cell_type": "code",
   "execution_count": 17,
   "metadata": {},
   "outputs": [
    {
     "name": "stdout",
     "output_type": "stream",
     "text": [
      "Epoch 1/10\n",
      "\u001b[1m2900/2900\u001b[0m \u001b[32m━━━━━━━━━━━━━━━━━━━━\u001b[0m\u001b[37m\u001b[0m \u001b[1m857s\u001b[0m 295ms/step - accuracy: 0.8920 - loss: 0.3037 - val_accuracy: 0.7806 - val_loss: 0.4219\n",
      "Epoch 2/10\n",
      "\u001b[1m2900/2900\u001b[0m \u001b[32m━━━━━━━━━━━━━━━━━━━━\u001b[0m\u001b[37m\u001b[0m \u001b[1m866s\u001b[0m 299ms/step - accuracy: 0.9341 - loss: 0.1879 - val_accuracy: 0.7948 - val_loss: 0.4577\n",
      "Epoch 3/10\n",
      "\u001b[1m2900/2900\u001b[0m \u001b[32m━━━━━━━━━━━━━━━━━━━━\u001b[0m\u001b[37m\u001b[0m \u001b[1m850s\u001b[0m 293ms/step - accuracy: 0.9456 - loss: 0.1541 - val_accuracy: 0.8027 - val_loss: 0.4575\n",
      "Epoch 4/10\n",
      "\u001b[1m2900/2900\u001b[0m \u001b[32m━━━━━━━━━━━━━━━━━━━━\u001b[0m\u001b[37m\u001b[0m \u001b[1m857s\u001b[0m 295ms/step - accuracy: 0.9537 - loss: 0.1304 - val_accuracy: 0.7948 - val_loss: 0.4949\n",
      "Epoch 5/10\n",
      "\u001b[1m2900/2900\u001b[0m \u001b[32m━━━━━━━━━━━━━━━━━━━━\u001b[0m\u001b[37m\u001b[0m \u001b[1m850s\u001b[0m 293ms/step - accuracy: 0.9598 - loss: 0.1131 - val_accuracy: 0.8086 - val_loss: 0.5353\n",
      "Epoch 6/10\n",
      "\u001b[1m2900/2900\u001b[0m \u001b[32m━━━━━━━━━━━━━━━━━━━━\u001b[0m\u001b[37m\u001b[0m \u001b[1m849s\u001b[0m 293ms/step - accuracy: 0.9656 - loss: 0.0954 - val_accuracy: 0.8201 - val_loss: 0.5365\n",
      "Epoch 7/10\n",
      "\u001b[1m2900/2900\u001b[0m \u001b[32m━━━━━━━━━━━━━━━━━━━━\u001b[0m\u001b[37m\u001b[0m \u001b[1m851s\u001b[0m 294ms/step - accuracy: 0.9692 - loss: 0.0850 - val_accuracy: 0.8091 - val_loss: 0.5849\n",
      "Epoch 8/10\n",
      "\u001b[1m2900/2900\u001b[0m \u001b[32m━━━━━━━━━━━━━━━━━━━━\u001b[0m\u001b[37m\u001b[0m \u001b[1m851s\u001b[0m 293ms/step - accuracy: 0.9736 - loss: 0.0728 - val_accuracy: 0.8040 - val_loss: 0.6153\n",
      "Epoch 9/10\n",
      "\u001b[1m2900/2900\u001b[0m \u001b[32m━━━━━━━━━━━━━━━━━━━━\u001b[0m\u001b[37m\u001b[0m \u001b[1m866s\u001b[0m 298ms/step - accuracy: 0.9777 - loss: 0.0609 - val_accuracy: 0.7999 - val_loss: 0.6542\n",
      "Epoch 10/10\n",
      "\u001b[1m2900/2900\u001b[0m \u001b[32m━━━━━━━━━━━━━━━━━━━━\u001b[0m\u001b[37m\u001b[0m \u001b[1m879s\u001b[0m 303ms/step - accuracy: 0.9803 - loss: 0.0554 - val_accuracy: 0.8008 - val_loss: 0.7359\n"
     ]
    }
   ],
   "source": [
    "historyreddit80twitter20bigru = model_biGRU.fit(X_trainreddit, y_trainreddit, batch_size=64, epochs=10, validation_data=(X_testtwitter, y_testtwitter))"
   ]
  },
  {
   "cell_type": "code",
   "execution_count": 18,
   "metadata": {},
   "outputs": [
    {
     "name": "stdout",
     "output_type": "stream",
     "text": [
      "\u001b[1m68/68\u001b[0m \u001b[32m━━━━━━━━━━━━━━━━━━━━\u001b[0m\u001b[37m\u001b[0m \u001b[1m3s\u001b[0m 45ms/step\n",
      "Precision: 0.7362020579981291\n",
      "Recall: 0.8390191897654584\n",
      "F1 Score: 0.7842551071250623\n",
      "Accuracy: 0.8008279668813247\n"
     ]
    }
   ],
   "source": [
    "import numpy as np\n",
    "from sklearn.metrics import confusion_matrix, precision_score, recall_score, f1_score, accuracy_score\n",
    "y_predr80t20bigru = model_biGRU.predict(X_testtwitter)\n",
    "y_pred_binaryr80t20bigru= np.round(y_predr80t20bigru)\n",
    "\n",
    "precisionr80t20bigru = precision_score(y_testtwitter, y_pred_binaryr80t20bigru)\n",
    "recallr80t20bigru = recall_score(y_testtwitter, y_pred_binaryr80t20bigru)\n",
    "f1r80t20bigru = f1_score(y_testtwitter, y_pred_binaryr80t20bigru)\n",
    "accuracyr80t20bigru= accuracy_score(y_testtwitter, y_pred_binaryr80t20bigru)\n",
    "print(\"Precision:\", precisionr80t20bigru)\n",
    "print(\"Recall:\", recallr80t20bigru)\n",
    "print(\"F1 Score:\", f1r80t20bigru)\n",
    "print(\"Accuracy:\", accuracyr80t20bigru)"
   ]
  },
  {
   "cell_type": "code",
   "execution_count": 19,
   "metadata": {},
   "outputs": [
    {
     "data": {
      "image/png": "[encoded data removed]",
      "text/plain": [
       "<Figure size 800x600 with 1 Axes>"
      ]
     },
     "metadata": {},
     "output_type": "display_data"
    }
   ],
   "source": [
    "import matplotlib.pyplot as plt\n",
    "import seaborn as sns\n",
    "r80t20bigru = confusion_matrix(y_testtwitter, y_pred_binaryr80t20bigru)\n",
    "plt.figure(figsize=(8, 6))\n",
    "sns.heatmap(r80t20bigru, annot=True, fmt=\"d\", cmap=\"Blues\", cbar=False)\n",
    "plt.xlabel(\"Predicted labels\")\n",
    "plt.ylabel(\"True labels\")\n",
    "plt.title(\"Confusion Matrix for Reddit80Twitter20BiGRU\")\n",
    "plt.show()"
   ]
  },
  {
   "cell_type": "code",
   "execution_count": 20,
   "metadata": {},
   "outputs": [
    {
     "name": "stdout",
     "output_type": "stream",
     "text": [
      "Epoch 1/10\n",
      "\u001b[1m2900/2900\u001b[0m \u001b[32m━━━━━━━━━━━━━━━━━━━━\u001b[0m\u001b[37m\u001b[0m \u001b[1m881s\u001b[0m 304ms/step - accuracy: 0.9824 - loss: 0.0480 - val_accuracy: 0.9288 - val_loss: 0.2912\n",
      "Epoch 2/10\n",
      "\u001b[1m2900/2900\u001b[0m \u001b[32m━━━━━━━━━━━━━━━━━━━━\u001b[0m\u001b[37m\u001b[0m \u001b[1m880s\u001b[0m 304ms/step - accuracy: 0.9849 - loss: 0.0419 - val_accuracy: 0.9289 - val_loss: 0.3338\n",
      "Epoch 3/10\n",
      "\u001b[1m2900/2900\u001b[0m \u001b[32m━━━━━━━━━━━━━━━━━━━━\u001b[0m\u001b[37m\u001b[0m \u001b[1m886s\u001b[0m 305ms/step - accuracy: 0.9865 - loss: 0.0374 - val_accuracy: 0.9255 - val_loss: 0.3452\n",
      "Epoch 4/10\n",
      "\u001b[1m2900/2900\u001b[0m \u001b[32m━━━━━━━━━━━━━━━━━━━━\u001b[0m\u001b[37m\u001b[0m \u001b[1m883s\u001b[0m 304ms/step - accuracy: 0.9879 - loss: 0.0329 - val_accuracy: 0.9263 - val_loss: 0.3646\n",
      "Epoch 5/10\n",
      "\u001b[1m2900/2900\u001b[0m \u001b[32m━━━━━━━━━━━━━━━━━━━━\u001b[0m\u001b[37m\u001b[0m \u001b[1m885s\u001b[0m 305ms/step - accuracy: 0.9897 - loss: 0.0295 - val_accuracy: 0.9252 - val_loss: 0.3832\n",
      "Epoch 6/10\n",
      "\u001b[1m2900/2900\u001b[0m \u001b[32m━━━━━━━━━━━━━━━━━━━━\u001b[0m\u001b[37m\u001b[0m \u001b[1m883s\u001b[0m 304ms/step - accuracy: 0.9903 - loss: 0.0265 - val_accuracy: 0.9257 - val_loss: 0.3915\n",
      "Epoch 7/10\n",
      "\u001b[1m2900/2900\u001b[0m \u001b[32m━━━━━━━━━━━━━━━━━━━━\u001b[0m\u001b[37m\u001b[0m \u001b[1m884s\u001b[0m 305ms/step - accuracy: 0.9901 - loss: 0.0265 - val_accuracy: 0.9221 - val_loss: 0.3873\n",
      "Epoch 8/10\n",
      "\u001b[1m2900/2900\u001b[0m \u001b[32m━━━━━━━━━━━━━━━━━━━━\u001b[0m\u001b[37m\u001b[0m \u001b[1m893s\u001b[0m 308ms/step - accuracy: 0.9914 - loss: 0.0239 - val_accuracy: 0.9274 - val_loss: 0.4203\n",
      "Epoch 9/10\n",
      "\u001b[1m2900/2900\u001b[0m \u001b[32m━━━━━━━━━━━━━━━━━━━━\u001b[0m\u001b[37m\u001b[0m \u001b[1m897s\u001b[0m 309ms/step - accuracy: 0.9923 - loss: 0.0206 - val_accuracy: 0.9271 - val_loss: 0.4511\n",
      "Epoch 10/10\n",
      "\u001b[1m2900/2900\u001b[0m \u001b[32m━━━━━━━━━━━━━━━━━━━━\u001b[0m\u001b[37m\u001b[0m \u001b[1m884s\u001b[0m 305ms/step - accuracy: 0.9928 - loss: 0.0202 - val_accuracy: 0.9251 - val_loss: 0.4547\n"
     ]
    }
   ],
   "source": [
    "historyreddit80twitter20bigru = model_biGRU.fit(X_trainreddit, y_trainreddit, batch_size=64, epochs=10, validation_data=(X_testreddit, y_testreddit80))"
   ]
  },
  {
   "cell_type": "code",
   "execution_count": 21,
   "metadata": {},
   "outputs": [
    {
     "name": "stdout",
     "output_type": "stream",
     "text": [
      "\u001b[1m1450/1450\u001b[0m \u001b[32m━━━━━━━━━━━━━━━━━━━━\u001b[0m\u001b[37m\u001b[0m \u001b[1m77s\u001b[0m 53ms/step\n",
      "Precision: 0.9307652037344036\n",
      "Recall: 0.918661729245608\n",
      "F1 Score: 0.9246738612230746\n",
      "Accuracy: 0.9250781334195495\n"
     ]
    }
   ],
   "source": [
    "import numpy as np\n",
    "from sklearn.metrics import confusion_matrix, precision_score, recall_score, f1_score, accuracy_score\n",
    "y_predr80r20bigru = model_biGRU.predict(X_testreddit)\n",
    "y_pred_binaryr80r20bigru= np.round(y_predr80r20bigru)\n",
    "\n",
    "precisionr80r20bigru = precision_score(y_testreddit80, y_pred_binaryr80r20bigru)\n",
    "recallr80r20bigru = recall_score(y_testreddit80, y_pred_binaryr80r20bigru)\n",
    "f1r80r20bigru = f1_score(y_testreddit80, y_pred_binaryr80r20bigru)\n",
    "accuracyr80r20bigru= accuracy_score(y_testreddit80, y_pred_binaryr80r20bigru)\n",
    "print(\"Precision:\", precisionr80r20bigru)\n",
    "print(\"Recall:\", recallr80r20bigru)\n",
    "print(\"F1 Score:\", f1r80r20bigru)\n",
    "print(\"Accuracy:\", accuracyr80r20bigru)"
   ]
  },
  {
   "cell_type": "code",
   "execution_count": 29,
   "metadata": {},
   "outputs": [
    {
     "data": {
      "image/png": "[encoded data removed]",
      "text/plain": [
       "<Figure size 800x600 with 1 Axes>"
      ]
     },
     "metadata": {},
     "output_type": "display_data"
    }
   ],
   "source": [
    "import matplotlib.pyplot as plt\n",
    "import seaborn as sns\n",
    "r80r20bigru = confusion_matrix(y_testreddit80, y_pred_binaryr80r20bigru)\n",
    "plt.figure(figsize=(8, 6))\n",
    "sns.heatmap(r80r20bigru, annot=True, fmt=\"d\", cmap=\"Blues\", cbar=False)\n",
    "plt.xlabel(\"Predicted labels\")\n",
    "plt.ylabel(\"True labels\")\n",
    "plt.title(\"Confusion Matrix for Reddit80Reddit80BiGRU\")\n",
    "plt.show()"
   ]
  },
  {
   "cell_type": "code",
   "execution_count": 22,
   "metadata": {},
   "outputs": [
    {
     "name": "stdout",
     "output_type": "stream",
     "text": [
      "Epoch 1/10\n",
      "\u001b[1m84/84\u001b[0m \u001b[32m━━━━━━━━━━━━━━━━━━━━\u001b[0m\u001b[37m\u001b[0m \u001b[1m63s\u001b[0m 753ms/step - accuracy: 0.8937 - loss: 0.5273 - val_accuracy: 0.8333 - val_loss: 0.5935\n",
      "Epoch 2/10\n",
      "\u001b[1m84/84\u001b[0m \u001b[32m━━━━━━━━━━━━━━━━━━━━\u001b[0m\u001b[37m\u001b[0m \u001b[1m64s\u001b[0m 762ms/step - accuracy: 0.9626 - loss: 0.1316 - val_accuracy: 0.8477 - val_loss: 0.5701\n",
      "Epoch 3/10\n",
      "\u001b[1m84/84\u001b[0m \u001b[32m━━━━━━━━━━━━━━━━━━━━\u001b[0m\u001b[37m\u001b[0m \u001b[1m64s\u001b[0m 768ms/step - accuracy: 0.9764 - loss: 0.0808 - val_accuracy: 0.8477 - val_loss: 0.6395\n",
      "Epoch 4/10\n",
      "\u001b[1m84/84\u001b[0m \u001b[32m━━━━━━━━━━━━━━━━━━━━\u001b[0m\u001b[37m\u001b[0m \u001b[1m65s\u001b[0m 776ms/step - accuracy: 0.9835 - loss: 0.0630 - val_accuracy: 0.8361 - val_loss: 0.7383\n",
      "Epoch 5/10\n",
      "\u001b[1m84/84\u001b[0m \u001b[32m━━━━━━━━━━━━━━━━━━━━\u001b[0m\u001b[37m\u001b[0m \u001b[1m65s\u001b[0m 782ms/step - accuracy: 0.9910 - loss: 0.0388 - val_accuracy: 0.8386 - val_loss: 0.8035\n",
      "Epoch 6/10\n",
      "\u001b[1m84/84\u001b[0m \u001b[32m━━━━━━━━━━━━━━━━━━━━\u001b[0m\u001b[37m\u001b[0m \u001b[1m65s\u001b[0m 781ms/step - accuracy: 0.9937 - loss: 0.0304 - val_accuracy: 0.8464 - val_loss: 0.8083\n",
      "Epoch 7/10\n",
      "\u001b[1m84/84\u001b[0m \u001b[32m━━━━━━━━━━━━━━━━━━━━\u001b[0m\u001b[37m\u001b[0m \u001b[1m65s\u001b[0m 780ms/step - accuracy: 0.9929 - loss: 0.0242 - val_accuracy: 0.8412 - val_loss: 0.8945\n",
      "Epoch 8/10\n",
      "\u001b[1m84/84\u001b[0m \u001b[32m━━━━━━━━━━━━━━━━━━━━\u001b[0m\u001b[37m\u001b[0m \u001b[1m63s\u001b[0m 759ms/step - accuracy: 0.9941 - loss: 0.0199 - val_accuracy: 0.8480 - val_loss: 0.8803\n",
      "Epoch 9/10\n",
      "\u001b[1m84/84\u001b[0m \u001b[32m━━━━━━━━━━━━━━━━━━━━\u001b[0m\u001b[37m\u001b[0m \u001b[1m64s\u001b[0m 770ms/step - accuracy: 0.9965 - loss: 0.0134 - val_accuracy: 0.8460 - val_loss: 0.9519\n",
      "Epoch 10/10\n",
      "\u001b[1m84/84\u001b[0m \u001b[32m━━━━━━━━━━━━━━━━━━━━\u001b[0m\u001b[37m\u001b[0m \u001b[1m65s\u001b[0m 776ms/step - accuracy: 0.9969 - loss: 0.0115 - val_accuracy: 0.8511 - val_loss: 0.9413\n"
     ]
    }
   ],
   "source": [
    "historytwitter80reddit20bigru = model_biGRU.fit(X_traintwitter, y_traintwitter, batch_size=64, epochs=10, validation_data=(X_testreddit, y_testreddit80))"
   ]
  },
  {
   "cell_type": "code",
   "execution_count": 23,
   "metadata": {},
   "outputs": [
    {
     "name": "stdout",
     "output_type": "stream",
     "text": [
      "\u001b[1m1450/1450\u001b[0m \u001b[32m━━━━━━━━━━━━━━━━━━━━\u001b[0m\u001b[37m\u001b[0m \u001b[1m77s\u001b[0m 53ms/step\n",
      "Precision: 0.7935873906941595\n",
      "Recall: 0.9495780227351016\n",
      "F1 Score: 0.8646031403759826\n",
      "Accuracy: 0.8511261989438517\n"
     ]
    }
   ],
   "source": [
    "import numpy as np\n",
    "from sklearn.metrics import confusion_matrix, precision_score, recall_score, f1_score, accuracy_score\n",
    "y_predt80r20bigru = model_biGRU.predict(X_testreddit)\n",
    "y_pred_binaryt80r20bigru= np.round(y_predt80r20bigru)\n",
    "\n",
    "precisiont80r20bigru = precision_score(y_testreddit80, y_pred_binaryt80r20bigru)\n",
    "recallt80r20bigru = recall_score(y_testreddit80, y_pred_binaryt80r20bigru)\n",
    "f1t80r20bigru = f1_score(y_testreddit80, y_pred_binaryt80r20bigru)\n",
    "accuracyt80r20bigru= accuracy_score(y_testreddit80, y_pred_binaryt80r20bigru)\n",
    "print(\"Precision:\", precisiont80r20bigru)\n",
    "print(\"Recall:\", recallt80r20bigru)\n",
    "print(\"F1 Score:\", f1t80r20bigru)\n",
    "print(\"Accuracy:\", accuracyt80r20bigru)"
   ]
  },
  {
   "cell_type": "code",
   "execution_count": 24,
   "metadata": {},
   "outputs": [
    {
     "data": {
      "image/png": "[encoded data removed]",
      "text/plain": [
       "<Figure size 800x600 with 1 Axes>"
      ]
     },
     "metadata": {},
     "output_type": "display_data"
    }
   ],
   "source": [
    "import matplotlib.pyplot as plt\n",
    "import seaborn as sns\n",
    "t80r20bigru = confusion_matrix(y_testreddit80, y_pred_binaryt80r20bigru)\n",
    "plt.figure(figsize=(8, 6))\n",
    "sns.heatmap(t80r20bigru, annot=True, fmt=\"d\", cmap=\"Blues\", cbar=False)\n",
    "plt.xlabel(\"Predicted labels\")\n",
    "plt.ylabel(\"True labels\")\n",
    "plt.title(\"Confusion Matrix for Twitter80Reddit20BiGRU\")\n",
    "plt.show()"
   ]
  },
  {
   "cell_type": "code",
   "execution_count": 25,
   "metadata": {},
   "outputs": [
    {
     "name": "stdout",
     "output_type": "stream",
     "text": [
      "Epoch 1/10\n",
      "\u001b[1m84/84\u001b[0m \u001b[32m━━━━━━━━━━━━━━━━━━━━\u001b[0m\u001b[37m\u001b[0m \u001b[1m28s\u001b[0m 328ms/step - accuracy: 0.9980 - loss: 0.0095 - val_accuracy: 0.8643 - val_loss: 0.7594\n",
      "Epoch 2/10\n",
      "\u001b[1m84/84\u001b[0m \u001b[32m━━━━━━━━━━━━━━━━━━━━\u001b[0m\u001b[37m\u001b[0m \u001b[1m27s\u001b[0m 317ms/step - accuracy: 0.9974 - loss: 0.0106 - val_accuracy: 0.8482 - val_loss: 0.7847\n",
      "Epoch 3/10\n",
      "\u001b[1m84/84\u001b[0m \u001b[32m━━━━━━━━━━━━━━━━━━━━\u001b[0m\u001b[37m\u001b[0m \u001b[1m26s\u001b[0m 315ms/step - accuracy: 0.9965 - loss: 0.0085 - val_accuracy: 0.8680 - val_loss: 0.7954\n",
      "Epoch 4/10\n",
      "\u001b[1m84/84\u001b[0m \u001b[32m━━━━━━━━━━━━━━━━━━━━\u001b[0m\u001b[37m\u001b[0m \u001b[1m26s\u001b[0m 315ms/step - accuracy: 0.9988 - loss: 0.0057 - val_accuracy: 0.8523 - val_loss: 0.8348\n",
      "Epoch 5/10\n",
      "\u001b[1m84/84\u001b[0m \u001b[32m━━━━━━━━━━━━━━━━━━━━\u001b[0m\u001b[37m\u001b[0m \u001b[1m27s\u001b[0m 316ms/step - accuracy: 0.9970 - loss: 0.0065 - val_accuracy: 0.8491 - val_loss: 0.8683\n",
      "Epoch 6/10\n",
      "\u001b[1m84/84\u001b[0m \u001b[32m━━━━━━━━━━━━━━━━━━━━\u001b[0m\u001b[37m\u001b[0m \u001b[1m27s\u001b[0m 316ms/step - accuracy: 0.9980 - loss: 0.0075 - val_accuracy: 0.8684 - val_loss: 0.8740\n",
      "Epoch 7/10\n",
      "\u001b[1m84/84\u001b[0m \u001b[32m━━━━━━━━━━━━━━━━━━━━\u001b[0m\u001b[37m\u001b[0m \u001b[1m27s\u001b[0m 316ms/step - accuracy: 0.9981 - loss: 0.0047 - val_accuracy: 0.8671 - val_loss: 0.9085\n",
      "Epoch 8/10\n",
      "\u001b[1m84/84\u001b[0m \u001b[32m━━━━━━━━━━━━━━━━━━━━\u001b[0m\u001b[37m\u001b[0m \u001b[1m27s\u001b[0m 316ms/step - accuracy: 0.9986 - loss: 0.0056 - val_accuracy: 0.8666 - val_loss: 0.9744\n",
      "Epoch 9/10\n",
      "\u001b[1m84/84\u001b[0m \u001b[32m━━━━━━━━━━━━━━━━━━━━\u001b[0m\u001b[37m\u001b[0m \u001b[1m26s\u001b[0m 315ms/step - accuracy: 0.9975 - loss: 0.0055 - val_accuracy: 0.8671 - val_loss: 0.9462\n",
      "Epoch 10/10\n",
      "\u001b[1m84/84\u001b[0m \u001b[32m━━━━━━━━━━━━━━━━━━━━\u001b[0m\u001b[37m\u001b[0m \u001b[1m27s\u001b[0m 316ms/step - accuracy: 0.9992 - loss: 0.0039 - val_accuracy: 0.8519 - val_loss: 0.9864\n"
     ]
    }
   ],
   "source": [
    "historytwitter80twitter80bigru = model_biGRU.fit(X_traintwitter, y_traintwitter, batch_size=64, epochs=10, validation_data=(X_testtwitter, y_testtwitter))"
   ]
  },
  {
   "cell_type": "code",
   "execution_count": 26,
   "metadata": {},
   "outputs": [
    {
     "name": "stdout",
     "output_type": "stream",
     "text": [
      "\u001b[1m68/68\u001b[0m \u001b[32m━━━━━━━━━━━━━━━━━━━━\u001b[0m\u001b[37m\u001b[0m \u001b[1m4s\u001b[0m 55ms/step\n",
      "Precision: 0.8092369477911646\n",
      "Recall: 0.8592750533049041\n",
      "F1 Score: 0.8335056876938987\n",
      "Accuracy: 0.8518859245630175\n"
     ]
    }
   ],
   "source": [
    "import numpy as np\n",
    "from sklearn.metrics import confusion_matrix, precision_score, recall_score, f1_score, accuracy_score\n",
    "y_predt80t20bigru = model_biGRU.predict(X_testtwitter)\n",
    "y_pred_binaryt80t20bigru= np.round(y_predt80t20bigru)\n",
    "\n",
    "precisiont80t20bigru = precision_score(y_testtwitter, y_pred_binaryt80t20bigru)\n",
    "recallt80t20bigru = recall_score(y_testtwitter, y_pred_binaryt80t20bigru)\n",
    "f1t80t20bigru = f1_score(y_testtwitter, y_pred_binaryt80t20bigru)\n",
    "accuracyt80t20bigru= accuracy_score(y_testtwitter, y_pred_binaryt80t20bigru)\n",
    "print(\"Precision:\", precisiont80t20bigru)\n",
    "print(\"Recall:\", recallt80t20bigru)\n",
    "print(\"F1 Score:\", f1t80t20bigru)\n",
    "print(\"Accuracy:\", accuracyt80t20bigru)"
   ]
  },
  {
   "cell_type": "code",
   "execution_count": 27,
   "metadata": {},
   "outputs": [
    {
     "data": {
      "image/png": "[encoded data removed]",
      "text/plain": [
       "<Figure size 800x600 with 1 Axes>"
      ]
     },
     "metadata": {},
     "output_type": "display_data"
    }
   ],
   "source": [
    "import matplotlib.pyplot as plt\n",
    "import seaborn as sns\n",
    "t80t20bigru = confusion_matrix(y_testtwitter, y_pred_binaryt80t20bigru)\n",
    "plt.figure(figsize=(8, 6))\n",
    "sns.heatmap(t80t20bigru, annot=True, fmt=\"d\", cmap=\"Blues\", cbar=False)\n",
    "plt.xlabel(\"Predicted labels\")\n",
    "plt.ylabel(\"True labels\")\n",
    "plt.title(\"Confusion Matrix for Twitter80Twitter20BiGRU\")\n",
    "plt.show()"
   ]
  }
 ],
 "metadata": {
  "kernelspec": {
   "display_name": ".venv",
   "language": "python",
   "name": "python3"
  },
  "language_info": {
   "codemirror_mode": {
    "name": "ipython",
    "version": 3
   },
   "file_extension": ".py",
   "mimetype": "text/x-python",
   "name": "python",
   "nbconvert_exporter": "python",
   "pygments_lexer": "ipython3",
   "version": "3.10.4"
  },
  "orig_nbformat": 4,
  "vscode": {
   "interpreter": {
    "hash": "34c166b1d61e5e975405115dddae8035b0d0dfff1bc1aad7ee926b90eeb6ce83"
   }
  }
 },
 "nbformat": 4,
 "nbformat_minor": 2
}
