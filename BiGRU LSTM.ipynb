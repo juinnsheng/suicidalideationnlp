{
 "cells": [
  {
   "cell_type": "code",
   "execution_count": 15,
   "metadata": {
    "id": "MAkXk6eccWuO"
   },
   "outputs": [],
   "source": [
    "import pandas as pd\n",
    "import numpy as np\n",
    "from sklearn.model_selection import train_test_split\n",
    "from sklearn.preprocessing import LabelEncoder\n",
    "from sklearn.metrics import accuracy_score, precision_score, recall_score, f1_score, confusion_matrix\n",
    "import matplotlib.pyplot as plt\n",
    "import seaborn as sns\n",
    "import keras\n",
    "import tensorflow as tf\n",
    "from tensorflow.keras.preprocessing.text import Tokenizer\n",
    "from keras.preprocessing.sequence import pad_sequences\n",
    "from keras.layers import Bidirectional, LSTM\n",
    "from tensorflow.keras.models import Sequential\n",
    "from tensorflow.keras.layers import Embedding, GRU, Dense, Dropout"
   ]
  },
  {
   "cell_type": "code",
   "execution_count": 16,
   "metadata": {
    "id": "v_AemrtHcN9C"
   },
   "outputs": [],
   "source": [
    "twitter = pd.read_csv('twitter_cleaned_stemmed-2.csv', index_col=False)\n",
    "reddit = pd.read_csv('reddit_cleaned_stemmed.csv', index_col=False)"
   ]
  },
  {
   "cell_type": "markdown",
   "metadata": {
    "id": "2mu4DgAVZZWP"
   },
   "source": [
    "## Data Pre-processing"
   ]
  },
  {
   "cell_type": "code",
   "execution_count": 17,
   "metadata": {
    "id": "_MxMeqHDNKyY"
   },
   "outputs": [],
   "source": [
    "# Remove unnecessary columns\n",
    "reddit.drop({'Unnamed: 0.1', 'Unnamed: 0'}, axis=1, inplace=True)\n",
    "twitter.drop({'Unnamed: 0'}, axis=1, inplace=True)\n",
    "\n",
    "# Rename columns\n",
    "twitter.rename(columns={'Tweet': 'text', 'Suicide': 'class'}, inplace=True)\n",
    "\n",
    "# Drop rows with missing value\n",
    "reddit.dropna(how='any', inplace=True)\n",
    "twitter.dropna(how='any', inplace=True)\n",
    "\n",
    "# Convert text class to 0 / 1\n",
    "le = LabelEncoder()\n",
    "reddit['class'] = le.fit_transform(reddit['class'])"
   ]
  },
  {
   "cell_type": "markdown",
   "metadata": {},
   "source": [
    "Train test split"
   ]
  },
  {
   "cell_type": "code",
   "execution_count": 18,
   "metadata": {
    "id": "eZSIc9h_SB-r"
   },
   "outputs": [],
   "source": [
    "# Splitting data into training and testing set\n",
    "X_twitter = twitter['text']\n",
    "y_twitter = twitter['class']\n",
    "\n",
    "X_reddit = reddit['text']\n",
    "y_reddit = reddit['class']\n",
    "\n",
    "X_trainreddit, X_testreddit, y_trainreddit, y_testreddit = train_test_split(X_reddit, y_reddit, test_size=0.2, random_state=42)\n",
    "X_traintwitter, X_testtwitter, y_traintwitter, y_testtwitter = train_test_split(X_twitter, y_twitter, test_size=0.2, random_state=42)"
   ]
  },
  {
   "cell_type": "markdown",
   "metadata": {},
   "source": [
    "Tokenization"
   ]
  },
  {
   "cell_type": "code",
   "execution_count": 63,
   "metadata": {},
   "outputs": [],
   "source": [
    "# Defining pre-processing parameters\n",
    "max_len = 256\n",
    "trunc_type = 'post'\n",
    "padding_type = 'post'\n",
    "oov_tok = '<OOV>' # out of vocabulary token\n",
    "vocab_size = 500\n",
    "\n",
    "\n",
    "tokenizer = Tokenizer(num_words = vocab_size, \n",
    "                      char_level = False,\n",
    "                      oov_token = oov_tok)\n",
    "tokenizer.fit_on_texts(X_trainreddit)"
   ]
  },
  {
   "cell_type": "markdown",
   "metadata": {},
   "source": [
    "Padding: Reddit Dataset"
   ]
  },
  {
   "cell_type": "code",
   "execution_count": 64,
   "metadata": {},
   "outputs": [],
   "source": [
    "x_reddit_training_sequences = tokenizer.texts_to_sequences(X_trainreddit)\n",
    "x_reddit_training_padded = pad_sequences(x_reddit_training_sequences,\n",
    "                                         maxlen = max_len,\n",
    "                                         padding = padding_type,\n",
    "                                         truncating = trunc_type)\n",
    "\n",
    "x_reddit_testing_sequences = tokenizer.texts_to_sequences(X_testreddit)\n",
    "x_reddit_testing_padded = pad_sequences(x_reddit_testing_sequences,\n",
    "                                        maxlen = max_len,\n",
    "                                        padding = padding_type,\n",
    "                                        truncating = trunc_type)"
   ]
  },
  {
   "cell_type": "markdown",
   "metadata": {},
   "source": [
    "Padding: Twitter Dataset"
   ]
  },
  {
   "cell_type": "code",
   "execution_count": 65,
   "metadata": {},
   "outputs": [],
   "source": [
    "x_twitter_training_sequences = tokenizer.texts_to_sequences(X_traintwitter)\n",
    "x_twitter_training_padded = pad_sequences(x_twitter_training_sequences,\n",
    "                                          maxlen = max_len,\n",
    "                                          padding = padding_type,\n",
    "                                          truncating = trunc_type)\n",
    "\n",
    "\n",
    "x_twitter_testing_sequences = tokenizer.texts_to_sequences(X_testtwitter)\n",
    "x_twitter_testing_padded = pad_sequences(x_twitter_testing_sequences,\n",
    "                                         maxlen = max_len,\n",
    "                                         padding = padding_type,\n",
    "                                         truncating = trunc_type)"
   ]
  },
  {
   "cell_type": "markdown",
   "metadata": {
    "id": "ciaAn6akb0yJ"
   },
   "source": [
    "## Deep learning model training"
   ]
  },
  {
   "cell_type": "code",
   "execution_count": 82,
   "metadata": {
    "colab": {
     "base_uri": "https://localhost:8080/"
    },
    "id": "Q2sq1ytl8Dun",
    "outputId": "df195c45-8c71-4577-e329-ae00174c6cbe"
   },
   "outputs": [
    {
     "name": "stdout",
     "output_type": "stream",
     "text": [
      "Model: \"sequential_7\"\n",
      "_________________________________________________________________\n",
      " Layer (type)                Output Shape              Param #   \n",
      "=================================================================\n",
      " layer_embedding (Embedding  (None, 256, 100)          50000     \n",
      " )                                                               \n",
      "                                                                 \n",
      " bidirectional_28 (Bidirect  (None, 256, 32)           11328     \n",
      " ional)                                                          \n",
      "                                                                 \n",
      " bidirectional_29 (Bidirect  (None, 256, 16)           2624      \n",
      " ional)                                                          \n",
      "                                                                 \n",
      " bidirectional_30 (Bidirect  (None, 256, 8)            528       \n",
      " ional)                                                          \n",
      "                                                                 \n",
      " bidirectional_31 (Bidirect  (None, 4)                 144       \n",
      " ional)                                                          \n",
      "                                                                 \n",
      " dropout_7 (Dropout)         (None, 4)                 0         \n",
      "                                                                 \n",
      " dense_7 (Dense)             (None, 1)                 5         \n",
      "                                                                 \n",
      "=================================================================\n",
      "Total params: 64629 (252.46 KB)\n",
      "Trainable params: 64629 (252.46 KB)\n",
      "Non-trainable params: 0 (0.00 Byte)\n",
      "_________________________________________________________________\n"
     ]
    }
   ],
   "source": [
    "model_biGRU_LSTM = Sequential()\n",
    "model_biGRU_LSTM.add(Embedding(input_dim=500, output_dim=100, input_length=256, name='layer_embedding'))\n",
    "model_biGRU_LSTM.add(Bidirectional(GRU(16, return_sequences=True)))\n",
    "model_biGRU_LSTM.add(Bidirectional(LSTM(8, return_sequences=True)))\n",
    "model_biGRU_LSTM.add(Bidirectional(GRU(4, return_sequences=True)))\n",
    "model_biGRU_LSTM.add(Bidirectional(GRU(2)))\n",
    "model_biGRU_LSTM.add(Dropout(0.2))\n",
    "model_biGRU_LSTM.add(Dense(1, activation='sigmoid'))\n",
    "model_biGRU_LSTM.compile(optimizer='rmsprop', loss='binary_crossentropy', metrics=['accuracy'])\n",
    "model_biGRU_LSTM.summary()"
   ]
  },
  {
   "cell_type": "markdown",
   "metadata": {
    "id": "sY5cDCfWQqwR"
   },
   "source": [
    "### BiGRU Model Training on Reddit Dataset"
   ]
  },
  {
   "cell_type": "markdown",
   "metadata": {
    "id": "kozhD4_pMNMN"
   },
   "source": [
    "Reddit Training Set"
   ]
  },
  {
   "cell_type": "code",
   "execution_count": 83,
   "metadata": {
    "colab": {
     "base_uri": "https://localhost:8080/"
    },
    "id": "Szh8n3xmL29k",
    "outputId": "889cd4c1-a9b4-45ae-c98e-196139e9d9f0",
    "scrolled": true
   },
   "outputs": [
    {
     "name": "stdout",
     "output_type": "stream",
     "text": [
      "Epoch 1/10\n",
      "2900/2900 [==============================] - 324s 111ms/step - loss: 0.3019 - accuracy: 0.8847\n",
      "Epoch 2/10\n",
      "2900/2900 [==============================] - 317s 109ms/step - loss: 0.2626 - accuracy: 0.8960\n",
      "Epoch 3/10\n",
      "2900/2900 [==============================] - 316s 109ms/step - loss: 0.2546 - accuracy: 0.9003\n",
      "Epoch 4/10\n",
      "2900/2900 [==============================] - 319s 110ms/step - loss: 0.2383 - accuracy: 0.9137\n",
      "Epoch 5/10\n",
      "2900/2900 [==============================] - 315s 109ms/step - loss: 0.2267 - accuracy: 0.9167\n",
      "Epoch 6/10\n",
      "2900/2900 [==============================] - 318s 110ms/step - loss: 0.2207 - accuracy: 0.9190\n",
      "Epoch 7/10\n",
      "2900/2900 [==============================] - 316s 109ms/step - loss: 0.2177 - accuracy: 0.9199\n",
      "Epoch 8/10\n",
      "2900/2900 [==============================] - 318s 110ms/step - loss: 0.2142 - accuracy: 0.9215\n",
      "Epoch 9/10\n",
      "2900/2900 [==============================] - 318s 110ms/step - loss: 0.2117 - accuracy: 0.9221\n",
      "Epoch 10/10\n",
      "2900/2900 [==============================] - 318s 110ms/step - loss: 0.2096 - accuracy: 0.9225\n"
     ]
    }
   ],
   "source": [
    "history_reddittrain = model_biGRU_LSTM.fit(x_reddit_training_padded, y_trainreddit, batch_size=64, epochs=10)"
   ]
  },
  {
   "cell_type": "markdown",
   "metadata": {},
   "source": [
    "Evaluation: Reddit Training Set | Reddit Testing Set"
   ]
  },
  {
   "cell_type": "code",
   "execution_count": 84,
   "metadata": {
    "colab": {
     "base_uri": "https://localhost:8080/"
    },
    "id": "pVWM5JuqVECc",
    "outputId": "4e87b323-ccd5-4123-9197-2bed412a6904",
    "scrolled": true
   },
   "outputs": [
    {
     "name": "stdout",
     "output_type": "stream",
     "text": [
      "1450/1450 [==============================] - 27s 18ms/step\n",
      "Precision: 0.934432805883664\n",
      "Recall: 0.9026868756458836\n",
      "F1 Score: 0.918285551588953\n",
      "Accuracy: 0.9195818514926177\n"
     ]
    }
   ],
   "source": [
    "y_predreddit_bigru = model_biGRU_LSTM.predict(x_reddit_testing_padded)\n",
    "y_predreddit_bigru_processed = np.round(y_predreddit_bigru)\n",
    "\n",
    "precisionreddit80tfidfbigru = precision_score(y_testreddit, y_predreddit_bigru_processed)\n",
    "recallreddit80tfidfbigru = recall_score(y_testreddit, y_predreddit_bigru_processed)\n",
    "f1reddit80tfidfbigru = f1_score(y_testreddit, y_predreddit_bigru_processed)\n",
    "accuracyreddit80tfidfbigru = accuracy_score(y_testreddit, y_predreddit_bigru_processed)\n",
    "\n",
    "\n",
    "print(\"Precision:\", precisionreddit80tfidfbigru)\n",
    "print(\"Recall:\", recallreddit80tfidfbigru)\n",
    "print(\"F1 Score:\", f1reddit80tfidfbigru)\n",
    "print(\"Accuracy:\", accuracyreddit80tfidfbigru)"
   ]
  },
  {
   "cell_type": "code",
   "execution_count": 85,
   "metadata": {
    "colab": {
     "base_uri": "https://localhost:8080/",
     "height": 564
    },
    "id": "xmU-g6Q0VKQB",
    "outputId": "aa1e1006-c6bf-4e83-8b36-a887dcf23f94",
    "scrolled": false
   },
   "outputs": [
    {
     "data": {
      "image/png": "[encoded data removed]",
      "text/plain": [
       "<Figure size 800x600 with 1 Axes>"
      ]
     },
     "metadata": {},
     "output_type": "display_data"
    }
   ],
   "source": [
    "# Confusion Matrix\n",
    "reddit_cm = confusion_matrix(y_testreddit, y_predreddit_bigru_processed)\n",
    "plt.figure(figsize=(8, 6))\n",
    "sns.heatmap(reddit80tfidfbigru_cm, annot=True, fmt=\"d\", cmap=\"Blues\", cbar=False)\n",
    "plt.xlabel(\"Predicted labels\")\n",
    "plt.ylabel(\"True labels\")\n",
    "plt.title(\"Confusion Matrix for Reddit Training & Testing Dataset\")\n",
    "plt.show()"
   ]
  },
  {
   "cell_type": "markdown",
   "metadata": {},
   "source": [
    "Evaluation: Reddit Training Dataset | Twitter Testing Dataset"
   ]
  },
  {
   "cell_type": "code",
   "execution_count": 86,
   "metadata": {},
   "outputs": [
    {
     "name": "stdout",
     "output_type": "stream",
     "text": [
      "68/68 [==============================] - 1s 18ms/step\n",
      "Precision: 0.7470355731225297\n",
      "Recall: 0.8059701492537313\n",
      "F1 Score: 0.7753846153846154\n",
      "Accuracy: 0.7985280588776449\n"
     ]
    }
   ],
   "source": [
    "y_predreddit_bigru = model_biGRU_LSTM.predict(x_twitter_testing_padded)\n",
    "y_predreddit_bigru_processed = np.round(y_predreddit_bigru)\n",
    "\n",
    "precisionreddit80tfidfbigru = precision_score(y_testtwitter, y_predreddit_bigru_processed)\n",
    "recallreddit80tfidfbigru = recall_score(y_testtwitter, y_predreddit_bigru_processed)\n",
    "f1reddit80tfidfbigru = f1_score(y_testtwitter, y_predreddit_bigru_processed)\n",
    "accuracyreddit80tfidfbigru = accuracy_score(y_testtwitter, y_predreddit_bigru_processed)\n",
    "\n",
    "\n",
    "print(\"Precision:\", precisionreddit80tfidfbigru)\n",
    "print(\"Recall:\", recallreddit80tfidfbigru)\n",
    "print(\"F1 Score:\", f1reddit80tfidfbigru)\n",
    "print(\"Accuracy:\", accuracyreddit80tfidfbigru)"
   ]
  },
  {
   "cell_type": "code",
   "execution_count": 87,
   "metadata": {},
   "outputs": [
    {
     "data": {
      "image/png": "[encoded data removed]",
      "text/plain": [
       "<Figure size 800x600 with 1 Axes>"
      ]
     },
     "metadata": {},
     "output_type": "display_data"
    }
   ],
   "source": [
    "# Confusion Matrix\n",
    "reddittrain_twittertest_cm = confusion_matrix(y_testtwitter, y_predreddit_bigru_processed)\n",
    "plt.figure(figsize=(8, 6))\n",
    "sns.heatmap(reddittrain_twittertest_cm, annot=True, fmt=\"d\", cmap=\"Blues\", cbar=False)\n",
    "plt.xlabel(\"Predicted labels\")\n",
    "plt.ylabel(\"True labels\")\n",
    "plt.title(\"Confusion Matrix for Reddit Training & Twitter Testing Dataset\")\n",
    "plt.show()"
   ]
  },
  {
   "cell_type": "markdown",
   "metadata": {},
   "source": [
    "### BiGRU Model Training on Twitter Dataset"
   ]
  },
  {
   "cell_type": "code",
   "execution_count": 88,
   "metadata": {},
   "outputs": [
    {
     "name": "stdout",
     "output_type": "stream",
     "text": [
      "Epoch 1/10\n",
      "136/136 [==============================] - 15s 109ms/step - loss: 0.3323 - accuracy: 0.8616\n",
      "Epoch 2/10\n",
      "136/136 [==============================] - 15s 110ms/step - loss: 0.2811 - accuracy: 0.8889\n",
      "Epoch 3/10\n",
      "136/136 [==============================] - 15s 111ms/step - loss: 0.2569 - accuracy: 0.8976\n",
      "Epoch 4/10\n",
      "136/136 [==============================] - 15s 109ms/step - loss: 0.2385 - accuracy: 0.9082\n",
      "Epoch 5/10\n",
      "136/136 [==============================] - 15s 109ms/step - loss: 0.2248 - accuracy: 0.9149\n",
      "Epoch 6/10\n",
      "136/136 [==============================] - 15s 110ms/step - loss: 0.2104 - accuracy: 0.9221\n",
      "Epoch 7/10\n",
      "136/136 [==============================] - 15s 110ms/step - loss: 0.1975 - accuracy: 0.9277\n",
      "Epoch 8/10\n",
      "136/136 [==============================] - 15s 110ms/step - loss: 0.1848 - accuracy: 0.9312\n",
      "Epoch 9/10\n",
      "136/136 [==============================] - 15s 110ms/step - loss: 0.1712 - accuracy: 0.9367\n",
      "Epoch 10/10\n",
      "136/136 [==============================] - 15s 109ms/step - loss: 0.1599 - accuracy: 0.9399\n"
     ]
    }
   ],
   "source": [
    "history_twittertrain = model_biGRU_LSTM.fit(x_twitter_training_padded, y_traintwitter, batch_size=64, epochs=10)"
   ]
  },
  {
   "cell_type": "markdown",
   "metadata": {},
   "source": [
    "Evaluation: Twitter Training | Twitter Testing"
   ]
  },
  {
   "cell_type": "code",
   "execution_count": 89,
   "metadata": {},
   "outputs": [
    {
     "name": "stdout",
     "output_type": "stream",
     "text": [
      "68/68 [==============================] - 1s 18ms/step\n",
      "Precision: 0.9131455399061033\n",
      "Recall: 0.8294243070362474\n",
      "F1 Score: 0.8692737430167599\n",
      "Accuracy: 0.8923643054277829\n"
     ]
    }
   ],
   "source": [
    "y_predreddit_bigru = model_biGRU_LSTM.predict(x_twitter_testing_padded)\n",
    "y_predreddit_bigru_processed = np.round(y_predreddit_bigru)\n",
    "\n",
    "precisionreddit80tfidfbigru = precision_score(y_testtwitter, y_predreddit_bigru_processed)\n",
    "recallreddit80tfidfbigru = recall_score(y_testtwitter, y_predreddit_bigru_processed)\n",
    "f1reddit80tfidfbigru = f1_score(y_testtwitter, y_predreddit_bigru_processed)\n",
    "accuracyreddit80tfidfbigru = accuracy_score(y_testtwitter, y_predreddit_bigru_processed)\n",
    "\n",
    "\n",
    "print(\"Precision:\", precisionreddit80tfidfbigru)\n",
    "print(\"Recall:\", recallreddit80tfidfbigru)\n",
    "print(\"F1 Score:\", f1reddit80tfidfbigru)\n",
    "print(\"Accuracy:\", accuracyreddit80tfidfbigru)"
   ]
  },
  {
   "cell_type": "code",
   "execution_count": 90,
   "metadata": {},
   "outputs": [
    {
     "data": {
      "image/png": "[encoded data removed]",
      "text/plain": [
       "<Figure size 800x600 with 1 Axes>"
      ]
     },
     "metadata": {},
     "output_type": "display_data"
    }
   ],
   "source": [
    "# Confusion Matrix\n",
    "twitter_cm = confusion_matrix(y_testtwitter, y_predreddit_bigru_processed)\n",
    "plt.figure(figsize=(8, 6))\n",
    "sns.heatmap(twitter_cm, annot=True, fmt=\"d\", cmap=\"Blues\", cbar=False)\n",
    "plt.xlabel(\"Predicted labels\")\n",
    "plt.ylabel(\"True labels\")\n",
    "plt.title(\"Confusion Matrix for Twitter Training & Testing Dataset\")\n",
    "plt.show()"
   ]
  },
  {
   "cell_type": "markdown",
   "metadata": {},
   "source": [
    "Evaluation: Twitter Training | Reddit Testing"
   ]
  },
  {
   "cell_type": "code",
   "execution_count": 91,
   "metadata": {},
   "outputs": [
    {
     "name": "stdout",
     "output_type": "stream",
     "text": [
      "1450/1450 [==============================] - 26s 18ms/step\n",
      "Precision: 0.682272\n",
      "Recall: 0.9180589045814674\n",
      "F1 Score: 0.7827954620552924\n",
      "Accuracy: 0.7449725185903654\n"
     ]
    }
   ],
   "source": [
    "y_predreddit_bigru = model_biGRU_LSTM.predict(x_reddit_testing_padded)\n",
    "y_predreddit_bigru_processed = np.round(y_predreddit_bigru)\n",
    "\n",
    "precisionreddit80tfidfbigru = precision_score(y_testreddit, y_predreddit_bigru_processed)\n",
    "recallreddit80tfidfbigru = recall_score(y_testreddit, y_predreddit_bigru_processed)\n",
    "f1reddit80tfidfbigru = f1_score(y_testreddit, y_predreddit_bigru_processed)\n",
    "accuracyreddit80tfidfbigru = accuracy_score(y_testreddit, y_predreddit_bigru_processed)\n",
    "\n",
    "\n",
    "print(\"Precision:\", precisionreddit80tfidfbigru)\n",
    "print(\"Recall:\", recallreddit80tfidfbigru)\n",
    "print(\"F1 Score:\", f1reddit80tfidfbigru)\n",
    "print(\"Accuracy:\", accuracyreddit80tfidfbigru)"
   ]
  },
  {
   "cell_type": "code",
   "execution_count": 92,
   "metadata": {},
   "outputs": [
    {
     "data": {
      "image/png": "[encoded data removed]",
      "text/plain": [
       "<Figure size 800x600 with 1 Axes>"
      ]
     },
     "metadata": {},
     "output_type": "display_data"
    }
   ],
   "source": [
    "# Confusion Matrix\n",
    "twittertraining_reddittesting_cm = confusion_matrix(y_testreddit, y_predreddit_bigru_processed)\n",
    "plt.figure(figsize=(8, 6))\n",
    "sns.heatmap(twittertraining_reddittesting_cm, annot=True, fmt=\"d\", cmap=\"Blues\", cbar=False)\n",
    "plt.xlabel(\"Predicted labels\")\n",
    "plt.ylabel(\"True labels\")\n",
    "plt.title(\"Confusion Matrix for Twitter Training & Reddit Testing Dataset\")\n",
    "plt.show()"
   ]
  }
 ],
 "metadata": {
  "accelerator": "GPU",
  "colab": {
   "gpuType": "T4",
   "provenance": []
  },
  "kernelspec": {
   "display_name": "Python 3 (ipykernel)",
   "language": "python",
   "name": "python3"
  },
  "language_info": {
   "codemirror_mode": {
    "name": "ipython",
    "version": 3
   },
   "file_extension": ".py",
   "mimetype": "text/x-python",
   "name": "python",
   "nbconvert_exporter": "python",
   "pygments_lexer": "ipython3",
   "version": "3.11.5"
  }
 },
 "nbformat": 4,
 "nbformat_minor": 1
}
